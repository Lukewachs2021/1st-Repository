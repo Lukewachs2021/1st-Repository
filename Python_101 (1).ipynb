{
  "nbformat": 4,
  "nbformat_minor": 0,
  "metadata": {
    "colab": {
      "name": "Python 101",
      "provenance": [],
      "collapsed_sections": []
    },
    "kernelspec": {
      "name": "python3",
      "display_name": "Python 3"
    }
  },
  "cells": [
    {
      "cell_type": "code",
      "metadata": {
        "id": "hBg2-IGcv6GY",
        "colab_type": "code",
        "colab": {
          "base_uri": "https://localhost:8080/",
          "height": 34
        },
        "outputId": "cb946bc0-b91d-4489-cadc-1ec7099d6cfd"
      },
      "source": [
        " print ( \"Hello World\" )"
      ],
      "execution_count": null,
      "outputs": [
        {
          "output_type": "stream",
          "text": [
            "Hello World\n"
          ],
          "name": "stdout"
        }
      ]
    },
    {
      "cell_type": "markdown",
      "metadata": {
        "id": "LU-gbZ8ktQlJ",
        "colab_type": "text"
      },
      "source": [
        "# Phone Research\n",
        "\n",
        "This is my phone research\n",
        "\n",
        "\n",
        "1.   people \n",
        "2.   people\n",
        "\n",
        "\n",
        "\n",
        "\n",
        "\n",
        "\n",
        "\n"
      ]
    },
    {
      "cell_type": "markdown",
      "metadata": {
        "id": "gySizfObulpI",
        "colab_type": "text"
      },
      "source": [
        "\n",
        " #this is a comment\n",
        "   x = 5\n",
        "   y = 2\n",
        "   z = 4\n",
        "   print ( x + y + z)\n",
        "\n",
        "\n",
        "\n",
        "\n",
        "\n",
        "\n"
      ]
    },
    {
      "cell_type": "code",
      "metadata": {
        "id": "_YCgNmmBzN3_",
        "colab_type": "code",
        "colab": {
          "base_uri": "https://localhost:8080/",
          "height": 68
        },
        "outputId": "7358166e-0d9e-4ac6-9de1-444c51df8312"
      },
      "source": [
        "#this collects the useres name with the input function\n",
        "\n",
        "name = input ('What is your name?\\n')\n",
        "print (\"hello there\" , name)"
      ],
      "execution_count": null,
      "outputs": [
        {
          "output_type": "stream",
          "text": [
            "What is your name?\n",
            "Steve\n",
            "hello there Steve\n"
          ],
          "name": "stdout"
        }
      ]
    },
    {
      "cell_type": "markdown",
      "metadata": {
        "id": "D_yHETop1E-v",
        "colab_type": "text"
      },
      "source": [
        "store numbers\n"
      ]
    },
    {
      "cell_type": "code",
      "metadata": {
        "id": "JdzOT3JO1Nkw",
        "colab_type": "code",
        "colab": {
          "base_uri": "https://localhost:8080/",
          "height": 51
        },
        "outputId": "0731dd90-e944-4b6f-ea32-b1803c4d6e9e"
      },
      "source": [
        "num = int(input('Give me a number please!'))\n",
        "print ('Your number is: ' , num)"
      ],
      "execution_count": null,
      "outputs": [
        {
          "output_type": "stream",
          "text": [
            "Give me a number please!69\n",
            "Your number is:  69\n"
          ],
          "name": "stdout"
        }
      ]
    }
  ]
}