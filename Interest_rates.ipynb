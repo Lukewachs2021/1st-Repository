{
  "nbformat": 4,
  "nbformat_minor": 0,
  "metadata": {
    "colab": {
      "name": "Interest rate",
      "provenance": [],
      "collapsed_sections": [],
      "authorship_tag": "ABX9TyNc/kdLSWogC7eBKNXIvupM",
      "include_colab_link": true
    },
    "kernelspec": {
      "name": "python3",
      "display_name": "Python 3"
    }
  },
  "cells": [
    {
      "cell_type": "markdown",
      "metadata": {
        "id": "view-in-github",
        "colab_type": "text"
      },
      "source": [
        "<a href=\"https://colab.research.google.com/github/Lukewachs2021/1st-Repository/blob/master/Interest_rates.ipynb\" target=\"_parent\"><img src=\"https://colab.research.google.com/assets/colab-badge.svg\" alt=\"Open In Colab\"/></a>"
      ]
    },
    {
      "cell_type": "code",
      "metadata": {
        "id": "SWnF9uZ5fGoM",
        "colab_type": "code",
        "colab": {
          "base_uri": "https://localhost:8080/",
          "height": 35
        },
        "outputId": "b347da04-445d-4458-e16c-de68b03eca46"
      },
      "source": [
        "\"\"\" File name: Interest Rates\n",
        "    Author: Lucas Wachsberger\n",
        "    Date created: 9/14/2020\n",
        "    Date last modified: 9/17/2020\n",
        "    Python Version: 3.0\"\"\""
      ],
      "execution_count": 4,
      "outputs": [
        {
          "output_type": "execute_result",
          "data": {
            "application/vnd.google.colaboratory.intrinsic+json": {
              "type": "string"
            },
            "text/plain": [
              "' File name: Interest Rates\\n    Author: Lucas Wachsberger\\n    Date created: 9/14/2020\\n    Date last modified: 9/17/2020\\n    Python Version: 3.0'"
            ]
          },
          "metadata": {
            "tags": []
          },
          "execution_count": 4
        }
      ]
    },
    {
      "cell_type": "code",
      "metadata": {
        "id": "yIn0FyVrfHST",
        "colab_type": "code",
        "colab": {
          "base_uri": "https://localhost:8080/",
          "height": 136
        },
        "outputId": "7673ce11-81b8-4813-f190-12ce55553182"
      },
      "source": [
        "#to get future value\n",
        "r = float(input(\"What is the interest rates?\\n\"))\n",
        "p = float(input(\"What is your pirncipal?\\n\"))\n",
        "t = float(input(\"What is the time of investment?\\n\"))\n",
        "\n",
        "output = p* (1+r)**t\n",
        "print(\"The fututre valaue is: \", output )"
      ],
      "execution_count": 5,
      "outputs": [
        {
          "output_type": "stream",
          "text": [
            "What is the interest rates?\n",
            "2\n",
            "What is your pirncipal?\n",
            "3\n",
            "What is the time of investment?\n",
            "4\n",
            "The fututre valaue is:  243.0\n"
          ],
          "name": "stdout"
        }
      ]
    },
    {
      "cell_type": "code",
      "metadata": {
        "id": "jLShrTqQj3hs",
        "colab_type": "code",
        "colab": {}
      },
      "source": [
        "for x in range(10)\n",
        "  print (x, end = ' | ')\n"
      ],
      "execution_count": null,
      "outputs": []
    },
    {
      "cell_type": "code",
      "metadata": {
        "id": "57IY_8II1Y3o",
        "colab_type": "code",
        "colab": {}
      },
      "source": [
        "amt = 10000\n",
        "int = 3.5\n",
        "years = 7\n",
        "\n",
        "future_value  = amt*((1+(0.01*int)) ** years)\n",
        "print(round(future_value,2))"
      ],
      "execution_count": null,
      "outputs": []
    }
  ]
}